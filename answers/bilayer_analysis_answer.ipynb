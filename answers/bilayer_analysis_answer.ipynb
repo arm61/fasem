{
 "cells": [
  {
   "cell_type": "markdown",
   "metadata": {},
   "source": [
    "# Analysis of Lipid Bilayer Dataset\n",
    "\n",
    "Phospholipid bilayers represent a helpful model description for cell membranes. \n",
    "The phospholipid defines the interface between the inside and outside of the cell, and reflectometry techniques are well-suited to studying these systems. \n",
    "However, to get the most from our reflectometry data, we must produce an accurate and descriptive model of the experimental system. \n",
    "We will use the Python library [`refnx`](https://refnx.readthedocs.io/en/latest/index.html) and this Jupyter Notebook to build this model. \n",
    "\n",
    "<img src='./assets/bilayer.png' width='30%'><br>\n",
    "<small>\n",
    "A pictorial description of a phospholipid bilayer.\n",
    "</small>\n",
    "\n",
    "## Intended Learning Outcomes\n",
    "\n",
    "- Use the `refnx.reflect.LipidBilayer` to analyse multiple contrast neutron reflectometry data from a lipid bilayer at the solid-liquid interface. \n",
    "- Contextualise the implementation of the `refnx.reflect.LipidBilayer` class in the multilayer interpretation of reflectometry analysis\n",
    "- Assess how neutron reflectometry could be used to analyse your systems of interest. \n",
    "\n",
    "This example has been taken from the [`refnx` documentation](https://refnx.readthedocs.io/en/latest/lipid.html) that was developed by [Andrew Nelson](https://www.ansto.gov.au/people/dr-andrew-nelson) (ANSTO).\n",
    "\n",
    "## Description of the data\n",
    "\n",
    "The data you will be looking at was collected at the Platypus reflectometer at the ANSTO reactor source in Australia. \n",
    "The data are stored as four columns ASCII files, with the columns representing the *q*-vectors, the measured reflectivity, the uncertainty in the measured reflectivity, and the width of a Gaussian resolution function. \n",
    "Files are present from three measurements. \n",
    "The system that was measured consists of a silicon slab, a bilayer of DMPC (1,2-dimyristoyl-*sn*-glycero-3-phosphocholine), and water arranged as shown below. \n",
    "The neutrons enter the sample through the silicon. \n",
    "\n",
    "```\n",
    "|--Silicon--|\n",
    "|-----------|\n",
    "|--Bilayer--|\n",
    "|-----------|\n",
    "|---Water---|\n",
    "```\n",
    "\n",
    "The three measurements were obtained by changing the hydrogen/deuterium ratio in the water. \n",
    "It is assumed that this has no effect on the structure of the bilayer and, therefore, offers multiple measurements of the same structural system that can be co-refined. \n",
    "\n",
    "Let's start with reading the data and plotting it. \n",
    "We will use the `ReflectDataset` class from `refnx` to do this. "
   ]
  },
  {
   "cell_type": "code",
   "execution_count": null,
   "metadata": {},
   "outputs": [],
   "source": [
    "import matplotlib.pyplot as plt\n",
    "from refnx.dataset import ReflectDataset\n",
    "\n",
    "data_d2o = ReflectDataset('./data//bilayer_d2o.dat')\n",
    "data_hdmix = ReflectDataset('./data/bilayer_hdmix.dat')\n",
    "data_h2o = ReflectDataset('./data/bilayer_h2o.dat')\n",
    "\n",
    "fig, ax = plt.subplots()\n",
    "data_d2o.plot(fig)\n",
    "data_hdmix.plot(fig)\n",
    "data_h2o.plot(fig)\n",
    "ax.set_xlabel('$q$/Å')\n",
    "ax.set_ylabel('$R(q)$')\n",
    "ax.set_yscale('log')\n",
    "plt.show()"
   ]
  },
  {
   "cell_type": "markdown",
   "metadata": {},
   "source": [
    "The three datasets are noticeably different despite coming from the same structural system. \n",
    "This is the effect of changing from pure D<sub>2</sub>O to a mixture of D<sub>2</sub>O and H<sub>2</sub>O to pure H<sub>2</sub>O.\n",
    "\n",
    "## Building the Model\n",
    "\n",
    "Having seen the data, the next aim is to build the structural model for the system. \n",
    "As shown above, in the sample description, the bilayer is assembled on a silicon block. \n",
    "Therefore, we need an object of type `SLD` that can describe the silicon. "
   ]
  },
  {
   "cell_type": "code",
   "execution_count": null,
   "metadata": {},
   "outputs": [],
   "source": [
    "from refnx.reflect import SLD\n",
    "\n",
    "si = SLD(2.07, name='Si')\n",
    "print(si)"
   ]
  },
  {
   "cell_type": "markdown",
   "metadata": {},
   "source": [
    "#### Task: Create the remaining materials\n",
    "\n",
    "The silicon block has a naturally formed layer of SiO<sub>2</sub> on it. Therefore, we need an `SLD` object for SiO<sub>2</sub> and the three isotopically different forms of water used. \n",
    "Create the four other `SLD` objects in the empty notebook cell below, and use the variable names given in the table. \n",
    "\n",
    "| Material    | SLD (10 <sup>-6</sup> Å<sup>-2</sup>) |\n",
    "| -------- | ------- |\n",
    "| `sio2`  | 3.47    |\n",
    "| `d2o` | 6.36    |\n",
    "| `hdmix`    | 2.07  |\n",
    "| `h2o` | -0.56 | "
   ]
  },
  {
   "cell_type": "code",
   "execution_count": null,
   "metadata": {},
   "outputs": [],
   "source": [
    "### ANSWER\n",
    "\n",
    "sio2 = SLD(3.4, name='SiO2')\n",
    "d2o = SLD(6.36, name='D2O')\n",
    "hdmix = SLD(2.07, name='HD-Mix')\n",
    "h2o = SLD(-0.56, name='H2O')"
   ]
  },
  {
   "cell_type": "markdown",
   "metadata": {},
   "source": [
    "These objects are all parameters that can be refined in the model-fitting process. \n",
    "We can see if a parameter can vary with the following command (notice that since the `SLD` object may include an imaginary component, it in fact contains two parameters). "
   ]
  },
  {
   "cell_type": "code",
   "execution_count": null,
   "metadata": {},
   "outputs": [],
   "source": [
    "d2o.real.vary"
   ]
  },
  {
   "cell_type": "markdown",
   "metadata": {},
   "source": [
    "Currently, the real SLD of the `d2o` object cannot vary. \n",
    "This can be changed with the `setp` method. "
   ]
  },
  {
   "cell_type": "code",
   "execution_count": null,
   "metadata": {},
   "outputs": [],
   "source": [
    "d2o.real.setp(vary=True, bounds=(6.1, 6.36))\n",
    "d2o.real.vary"
   ]
  },
  {
   "cell_type": "markdown",
   "metadata": {},
   "source": [
    "This will ensure that in the optimisation, the value of `d2o` is constrained between the values of 6.1 &times;10 <sup>-6</sup> Å<sup>-2</sup> and 6.36 &times;10 <sup>-6</sup> Å<sup>-2</sup>. \n",
    "\n",
    "The next step will be to create a layer of the SiO<sub>2</sub> material. \n",
    "To do this, we call the `sio2` object with two values: the first is the thickness of the layer, and the second is the roughness between this layer and the layer above it (for the SiO<sub>2</sub> layer this is the pure silicon layer) in ångströms."
   ]
  },
  {
   "cell_type": "code",
   "execution_count": null,
   "metadata": {},
   "outputs": [],
   "source": [
    "sio2_layer = sio2(15, 3)\n",
    "sio2_layer.name = 'SiO2 Layer'\n",
    "print(sio2_layer)"
   ]
  },
  {
   "cell_type": "markdown",
   "metadata": {},
   "source": [
    "#### Task: Varying Parameters of the SiO<sub>2</sub> Layer\n",
    "\n",
    "You should notice that the `sio2_layer` object has a few parameters: thickness, roughness, and solvent volume fraction. \n",
    "Similar to the SLD, these can be allowed to vary. \n",
    "Set the `sio2_layer` parameters in the table to vary between the given bounds in the cell below.\n",
    "\n",
    "| Parameter | Min | Max |\n",
    "| -------- | ------- | ------- |\n",
    "| `thick` | 2 | 30 |\n",
    "| `rough` | 0 | 7 |\n",
    "| `vfsolv` | 0.0 | 0.5 | "
   ]
  },
  {
   "cell_type": "code",
   "execution_count": null,
   "metadata": {},
   "outputs": [],
   "source": [
    "### ANSWER\n",
    "\n",
    "sio2_layer.thick.setp(vary=True, bounds=(2, 30))\n",
    "sio2_layer.rough.setp(vary=True, bounds=(0, 7))\n",
    "sio2_layer.vfsolv.setp(vary=True, bounds=(0, 0.5))"
   ]
  },
  {
   "cell_type": "markdown",
   "metadata": {},
   "source": [
    "The next step is to create the `refnx.reflect.LipidLeaflet` objects (note that two will be required, one for each layer in the bilayer). \n",
    "This imposes some physical constraints on our model, specifically that the number of head groups in the lipid layers must equal the number of pairs of tail groups. \n",
    "This constraint makes logical sense, as there are covalent chemical bonds between the phospholipid components. \n",
    "Let's look at the input requirements for the `refnx.reflect.LipidLeaflet`. "
   ]
  },
  {
   "cell_type": "code",
   "execution_count": null,
   "metadata": {},
   "outputs": [],
   "source": [
    "from refnx.reflect import LipidLeaflet\n",
    "\n",
    "LipidLeaflet?"
   ]
  },
  {
   "cell_type": "markdown",
   "metadata": {},
   "source": [
    "There are a large number of required inputs, so let's build these one by one. \n",
    "The first is the `apm` or area per molecule; this is the area that each lipid occupies in the lipid layer. \n",
    "We will create this directly as a `Parameter`. "
   ]
  },
  {
   "cell_type": "code",
   "execution_count": null,
   "metadata": {},
   "outputs": [],
   "source": [
    "from refnx.analysis import Parameter\n",
    "\n",
    "apm = Parameter(56, name='area per molecule', vary=True, bounds=(52, 65))\n",
    "print(apm)"
   ]
  },
  {
   "cell_type": "markdown",
   "metadata": {},
   "source": [
    "#### Task: Remaining Parameter Creation \n",
    "\n",
    "Using the `Parameter` function, you should create the remaining parameters (given in the table below) for the `LipidLeafet` in the cell below. \n",
    "Where no min and max value is given, the parameter should not be able to vary. \n",
    "We will then discuss what each of these parameters means.\n",
    "\n",
    "| Parameter | Initial Value | Min | Max |\n",
    "| -------- | ------- | ------- | ------- |\n",
    "| `b_heads` | 6.01&times;10<sup>-4</sup> | -- | -- |\n",
    "| `b_tails` | -2.92&times;10<sup>-4</sup> | -- | -- |\n",
    "| `v_heads` | 319 | -- | -- |\n",
    "| `v_tails` | 782 | -- | -- |\n",
    "| `inner_head_thickness` | 9 | 4 | 11 |\n",
    "| `outer_head_thickness` | 9 | 4 | 11 |\n",
    "| `tail_thickness` | 14 | 10 | 17 |\n",
    "| `solv_roughness` | 3 | 0 | 5 |"
   ]
  },
  {
   "cell_type": "code",
   "execution_count": null,
   "metadata": {},
   "outputs": [],
   "source": [
    "### ANSWER\n",
    "b_heads = Parameter(6.01e-4, 'b_heads')\n",
    "b_tails = Parameter(-2.92e-4, 'b_tails')\n",
    "\n",
    "v_heads = Parameter(319, 'v_heads')\n",
    "v_tails = Parameter(782, 'v_tails')\n",
    "\n",
    "inner_head_thickness = Parameter(9, 'inner_head_thickness', vary=True, bounds=(4, 11))\n",
    "outer_head_thickness = Parameter(9, 'outer_head_thickness', vary=True, bounds=(4, 11))\n",
    "tail_thickness = Parameter(14, 'tail_thickness', vary=True, bounds=(10, 17))\n",
    "solv_roughness = Parameter(3, 'solv_roughness', vary=True, bounds=(0, 5))"
   ]
  },
  {
   "cell_type": "markdown",
   "metadata": {},
   "source": [
    "These parameters are the following:\n",
    "- `b_heads` and `b_tails` are the scattering lengths of the heads and tails (in ångströms), respectively.\n",
    "- `v_heads` and `v_tails` are the volume occupied by the heads and tails (in ångströms<sup>3</sup>), respectively.\n",
    "- `inner_head_thickness` is the head layer's thickness next to the silicon block.\n",
    "- `outer_head_thickness` is the same parameter as the head layer in the water.\n",
    "- `tail_thickness` is the tail layer thickness. \n",
    "\n",
    "The two `LipidLeaflet` can now be created, with roughness values of 3 Å."
   ]
  },
  {
   "cell_type": "code",
   "execution_count": null,
   "metadata": {},
   "outputs": [],
   "source": [
    "inner_leaflet = LipidLeaflet(apm,\n",
    "                             b_heads, v_heads, inner_head_thickness,\n",
    "                             b_tails, v_tails, tail_thickness,\n",
    "                             3, 3)\n",
    "\n",
    "outer_leaflet = LipidLeaflet(apm,\n",
    "                             b_heads, v_heads, outer_head_thickness,\n",
    "                             b_tails, v_tails, tail_thickness,\n",
    "                             3, 0, reverse_monolayer=True)"
   ]
  },
  {
   "cell_type": "markdown",
   "metadata": {},
   "source": [
    "Note that the monolayer is reversed for the `outer_leaflet` so that the tails are in contact between the two layers. \n",
    "\n",
    "The final step in building the model is to combine all the layers for each of the three isotopic contrasts. "
   ]
  },
  {
   "cell_type": "code",
   "execution_count": null,
   "metadata": {},
   "outputs": [],
   "source": [
    "s_d2o = si | sio2_layer | inner_leaflet | outer_leaflet | d2o(0, solv_roughness)\n",
    "s_hdmix = si | sio2_layer | inner_leaflet | outer_leaflet | hdmix(0, solv_roughness)\n",
    "s_h2o = si | sio2_layer | inner_leaflet | outer_leaflet | h2o(0, solv_roughness)"
   ]
  },
  {
   "cell_type": "markdown",
   "metadata": {},
   "source": [
    "The `si` layer has no roughness as it is the top layer in the model. \n",
    "\n",
    "## Calculating Reflectometry from the Models\n",
    "\n",
    "With the model created, we now need to add some reflectometry parameters, the scaling of the data and the background level (only the `s_d2o` system requires a scale change). \n",
    "This is done with the `refnx.reflect.ReflectModel` objects. "
   ]
  },
  {
   "cell_type": "code",
   "execution_count": null,
   "metadata": {},
   "outputs": [],
   "source": [
    "from refnx.reflect import ReflectModel\n",
    "\n",
    "model_d2o = ReflectModel(s_d2o)\n",
    "model_hdmix = ReflectModel(s_hdmix)\n",
    "model_h2o = ReflectModel(s_h2o)\n",
    "\n",
    "model_d2o.scale.setp(vary=True, bounds=(0.9, 1.1))\n",
    "\n",
    "model_d2o.bkg.setp(vary=True, bounds=(-1e-6, 1e-6))\n",
    "model_hdmix.bkg.setp(vary=True, bounds=(-1e-6, 1e-6))\n",
    "model_h2o.bkg.setp(vary=True, bounds=(-1e-6, 1e-6))"
   ]
  },
  {
   "cell_type": "markdown",
   "metadata": {},
   "source": [
    "Finally, an `Objective` is created, similar to the previous example. \n",
    "However, one is created for each system this time, and these are merged into a `GlobalObjective`."
   ]
  },
  {
   "cell_type": "code",
   "execution_count": null,
   "metadata": {},
   "outputs": [],
   "source": [
    "from refnx.analysis import Objective, GlobalObjective\n",
    "\n",
    "objective_d2o = Objective(model_d2o, data_d2o)\n",
    "objective_hdmix = Objective(model_hdmix, data_hdmix)\n",
    "objective_h2o = Objective(model_h2o, data_h2o)\n",
    "\n",
    "global_objective = GlobalObjective([objective_d2o, objective_hdmix, objective_h2o])"
   ]
  },
  {
   "cell_type": "markdown",
   "metadata": {},
   "source": [
    "Before we perform the fitting, we can look at the current agreement between the model and the data. "
   ]
  },
  {
   "cell_type": "code",
   "execution_count": null,
   "metadata": {},
   "outputs": [],
   "source": [
    "fig, ax = plt.subplots()\n",
    "global_objective.plot(fig=fig)\n",
    "ax.set_xlabel('$q$/Å')\n",
    "ax.set_ylabel('$R(q)$')\n",
    "ax.set_yscale('log')\n",
    "plt.show()"
   ]
  },
  {
   "cell_type": "markdown",
   "metadata": {},
   "source": [
    "The `GlobalObjective` acts the same way as the `Objective` objects. \n",
    "Therefore, they can be passed to the `CurveFitter`, and a fitting algorithm may be applied. "
   ]
  },
  {
   "cell_type": "code",
   "execution_count": null,
   "metadata": {},
   "outputs": [],
   "source": [
    "from refnx.analysis import CurveFitter\n",
    "\n",
    "fitter = CurveFitter(global_objective)\n",
    "fitter.fit('differential_evolution')"
   ]
  },
  {
   "cell_type": "markdown",
   "metadata": {},
   "source": [
    "With the fitting complete, we check that the fit has improved. "
   ]
  },
  {
   "cell_type": "code",
   "execution_count": null,
   "metadata": {},
   "outputs": [],
   "source": [
    "fig, ax = plt.subplots()\n",
    "global_objective.plot(fig=fig)\n",
    "ax.set_xlabel('$q$/Å')\n",
    "ax.set_ylabel('$R(q)$')\n",
    "ax.set_yscale('log')\n",
    "plt.show()"
   ]
  },
  {
   "cell_type": "markdown",
   "metadata": {},
   "source": [
    "We can also look at the optimised values of the varying parameters. "
   ]
  },
  {
   "cell_type": "code",
   "execution_count": null,
   "metadata": {},
   "outputs": [],
   "source": [
    "print(global_objective.varying_parameters())"
   ]
  },
  {
   "cell_type": "markdown",
   "metadata": {},
   "source": [
    "We can look at the resulting scattering length density profiles. "
   ]
  },
  {
   "cell_type": "code",
   "execution_count": null,
   "metadata": {},
   "outputs": [],
   "source": [
    "fig, ax = plt.subplots()\n",
    "ax.plot(*s_d2o.sld_profile(), label='d2o')\n",
    "ax.plot(*s_hdmix.sld_profile(), label='hdmix')\n",
    "ax.plot(*s_h2o.sld_profile(), label='h2o')\n",
    "ax.set_ylabel(\"$\\\\rho$ / $10^{-6}$ Å$^{-2}$\")\n",
    "ax.set_xlabel(\"z / Å\")\n",
    "ax.legend()\n",
    "plt.show()"
   ]
  },
  {
   "cell_type": "markdown",
   "metadata": {},
   "source": [
    "#### Task: Perform MCMC on the Bilayer System\n",
    "\n",
    "In the previous exercise, you performed Markov chain Monte Carlo (MCMC) sampling to investigate the system's posterior distribution. \n",
    "Perform the same operation and plot the corner plot for the posterior distribution. \n",
    "*Note that this may be very slow on the Binder resource and is probably best run locally."
   ]
  },
  {
   "cell_type": "code",
   "execution_count": null,
   "metadata": {},
   "outputs": [],
   "source": [
    "### ANSWER\n",
    "\n",
    "fitter.sample(400)\n",
    "fitter.sampler.reset()\n",
    "fitter.sample(30, nthin=100)\n",
    "\n",
    "global_objective.corner()\n",
    "plt.show()"
   ]
  },
  {
   "cell_type": "markdown",
   "metadata": {},
   "source": [
    "#### Task: Consider how reflectometry may be used in your research\n",
    "\n",
    "How may the reflectometry be used in your research? \n",
    "Design a potential reflectometry experiment if you think it would be helpful for your research. \n",
    "Contact an instrument scientist and assess, with them, the feasibility of the measurements/analysis. "
   ]
  }
 ],
 "metadata": {
  "kernelspec": {
   "display_name": "refnx",
   "language": "python",
   "name": "python3"
  },
  "language_info": {
   "codemirror_mode": {
    "name": "ipython",
    "version": 3
   },
   "file_extension": ".py",
   "mimetype": "text/x-python",
   "name": "python",
   "nbconvert_exporter": "python",
   "pygments_lexer": "ipython3",
   "version": "3.10.13"
  }
 },
 "nbformat": 4,
 "nbformat_minor": 2
}
