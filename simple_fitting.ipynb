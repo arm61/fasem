{
 "cells": [
  {
   "cell_type": "markdown",
   "metadata": {},
   "source": [
    "# Reflectometry Analysis Example\n",
    "\n",
    "We will start by working through a simple example of a neutron reflectometry analysis. \n",
    "This example doesn't have a specific life science application, but it is a good system to start with. \n",
    "We will use the Python library [`refnx`](https://refnx.readthedocs.io/en/latest/index.html) and this Jupyter Notebook to analyse our data. \n",
    "\n",
    "## Intended Learning Outcomes \n",
    "\n",
    "- Explain how `refnx` and Python can be used to analyse reflectometry data.\n",
    "- Interpret the results of a reflectometry analysis. \n",
    "- Understand the use of optimisation and sampling in reflectometry. \n",
    "\n",
    "## Description of the data\n",
    "\n",
    "The data you will investigate is from a polymer brush system; while not biological, it is an excellent demonstrative example. \n",
    "The data were collected at the Platypus reflectometer at the ANTSO reactor source in Australia. \n",
    "The data are stored as four columns ASCII files, with the columns representing the *q*-vectors, the measured reflectivity, the uncertainty in the measured reflectivity, and the width of a Gaussian resolution function. \n",
    "The specific system that we are investigating can be described with the following layers: \n",
    "\n",
    "```\n",
    "|-----Silicon-----|\n",
    "|-----------------|\n",
    "|---Polymer Film--|\n",
    "|-----------------|\n",
    "|-------D2O-------|\n",
    "```\n",
    "\n",
    "We will look at a single neutron measurement. \n",
    "\n",
    "Let's begin with reading the data and having a look at it. \n",
    "We will use the `ReflectDataset` class from `refnx` to do this. "
   ]
  },
  {
   "cell_type": "code",
   "execution_count": null,
   "metadata": {},
   "outputs": [],
   "source": [
    "import matplotlib.pyplot as plt\n",
    "from refnx.dataset import ReflectDataset\n",
    "\n",
    "data = ReflectDataset('./data//simple.dat')\n",
    "\n",
    "fig, ax = plt.subplots()\n",
    "data.plot(fig=fig)\n",
    "ax.set_xlabel('$q$ / Å')\n",
    "ax.set_ylabel('$R(q)$')\n",
    "ax.set_yscale('log')\n",
    "plt.show()"
   ]
  },
  {
   "cell_type": "markdown",
   "metadata": {},
   "source": [
    "## Building the Model\n",
    "\n",
    "We have looked at the data to start constructing the model described above. \n",
    "The model will consist of four materials, the three above, plus a natural SiO<sub>2</sub> layer on the silicon block. \n",
    "We can construct these objects in Python as follows. "
   ]
  },
  {
   "cell_type": "code",
   "execution_count": null,
   "metadata": {},
   "outputs": [],
   "source": [
    "from refnx.reflect import SLD\n",
    "\n",
    "si = SLD(2.07, name='Si')\n",
    "sio2 = SLD(3.47, name='SiO2')\n",
    "polymer = SLD(2.0, name='polymer')\n",
    "d2o = SLD(6.36, name='d2o')"
   ]
  },
  {
   "cell_type": "markdown",
   "metadata": {},
   "source": [
    "Notice that this function takes a single argument, the scattering length density of the material in units of 10 <sup>-6</sup> Å<sup>-2</sup>. \n",
    "Scattering length densities can have imaginary components, but for the materials investigated here, they are all 0. \n",
    "\n",
    "From these materials, we will now construct our layers; these are achieved by calling the material itself and passing an initial thickness and the roughness between this layer and the layer above. \n",
    "This is shown for the three layers below; no layer was created for the top layer, as this is semi-infinite. "
   ]
  },
  {
   "cell_type": "code",
   "execution_count": null,
   "metadata": {},
   "outputs": [],
   "source": [
    "sio2_layer = sio2(30, 3)\n",
    "polymer_layer = polymer(250, 3)\n",
    "d2o_layer = d2o(0, 3)"
   ]
  },
  {
   "cell_type": "markdown",
   "metadata": {},
   "source": [
    "With the layers created, we can start to set the optimisation conditions, i.e., the parameters that can vary and the bounds within which they will vary. \n",
    "These parameters are set with the `setp` method, where we pass the bounds and the `vary=True` keyword arguments. \n",
    "Below, we define six parameters that will vary between the given bounds. "
   ]
  },
  {
   "cell_type": "code",
   "execution_count": null,
   "metadata": {},
   "outputs": [],
   "source": [
    "sio2_layer.thick.setp(bounds=(15, 50), vary=True)\n",
    "sio2_layer.rough.setp(bounds=(1, 15), vary=True)\n",
    "\n",
    "polymer_layer.thick.setp(bounds=(200, 300), vary=True)\n",
    "polymer_layer.sld.real.setp(bounds=(0.1, 3), vary=True)\n",
    "polymer_layer.rough.setp(bounds=(1, 15), vary=True)\n",
    "\n",
    "d2o_layer.rough.setp(vary=True, bounds=(1, 15))"
   ]
  },
  {
   "cell_type": "markdown",
   "metadata": {},
   "source": [
    "The next step is to construct the overall structure.\n",
    "The other of these layers should match the expected structure of the material, with the first layer being the one that the neutron interacts with first. "
   ]
  },
  {
   "cell_type": "code",
   "execution_count": null,
   "metadata": {},
   "outputs": [],
   "source": [
    "structure = si | sio2_layer | polymer_layer | d2o_layer"
   ]
  },
  {
   "cell_type": "markdown",
   "metadata": {},
   "source": [
    "We can plot the structure scattering length density profile as shown below."
   ]
  },
  {
   "cell_type": "code",
   "execution_count": null,
   "metadata": {},
   "outputs": [],
   "source": [
    "fig, ax = plt.subplots()\n",
    "ax.plot(*structure.sld_profile())\n",
    "ax.set_ylabel('SLD /$10^{-6} \\AA^{-2}$')\n",
    "ax.set_xlabel('distance / $\\AA$')\n",
    "plt.show()"
   ]
  },
  {
   "cell_type": "markdown",
   "metadata": {},
   "source": [
    "Before we can perform the fitting, we need to add two more parameters to our model: the scale (the amount by which the calculated reflectometry should be scaled) and the background (a uniform background that is added to the data). "
   ]
  },
  {
   "cell_type": "code",
   "execution_count": null,
   "metadata": {},
   "outputs": [],
   "source": [
    "from refnx.reflect import ReflectModel\n",
    "\n",
    "model = ReflectModel(structure, bkg=3e-6, dq=5.0)\n",
    "model.scale.setp(bounds=(0.6, 1.2), vary=True)\n",
    "model.bkg.setp(bounds=(1e-9, 9e-6), vary=True)"
   ]
  },
  {
   "cell_type": "markdown",
   "metadata": {},
   "source": [
    "With the model wholly defined, it is possible to visualize a simulation of the model data over an example *q* range. "
   ]
  },
  {
   "cell_type": "code",
   "execution_count": null,
   "metadata": {},
   "outputs": [],
   "source": [
    "import numpy as np\n",
    "\n",
    "q = np.linspace(0.005, 0.3, 1001)\n",
    "\n",
    "fig, ax = plt.subplots()\n",
    "ax.plot(q, model(q))\n",
    "ax.set_xlabel('$q$ / Å')\n",
    "ax.set_ylabel('$R(q)$')\n",
    "ax.set_yscale('log')\n",
    "plt.show()"
   ]
  },
  {
   "cell_type": "markdown",
   "metadata": {},
   "source": [
    "## Fitting the Data\n",
    "\n",
    "The model is now entirely constructed, so it is time to start the fitting. \n",
    "The fitting aims to modify the model parameters to get the best agreement between the model and the data. \n",
    "This is achieved with an `Objective` object. "
   ]
  },
  {
   "cell_type": "code",
   "execution_count": null,
   "metadata": {},
   "outputs": [],
   "source": [
    "from refnx.analysis import Objective\n",
    "\n",
    "objective = Objective(model, data)"
   ]
  },
  {
   "cell_type": "markdown",
   "metadata": {},
   "source": [
    "The optimisation is performed with an algorithm that refines our parameters, in this example we use the differential evolution algorithm which is extremely popular for reflectometry analysis. "
   ]
  },
  {
   "cell_type": "code",
   "execution_count": null,
   "metadata": {},
   "outputs": [],
   "source": [
    "from refnx.analysis import CurveFitter\n",
    "\n",
    "fitter = CurveFitter(objective)\n",
    "fitter.fit('differential_evolution')"
   ]
  },
  {
   "cell_type": "markdown",
   "metadata": {},
   "source": [
    "When the optimisation is complete, we can plot our optimised model with our data, as shown below. "
   ]
  },
  {
   "cell_type": "code",
   "execution_count": null,
   "metadata": {},
   "outputs": [],
   "source": [
    "fig, ax = plt.subplots()\n",
    "objective.plot(fig=fig)\n",
    "ax.legend()\n",
    "ax.set_xlabel('$q$ / Å')\n",
    "ax.set_ylabel('$R(q)$')\n",
    "ax.set_yscale('log')\n",
    "plt.show()"
   ]
  },
  {
   "cell_type": "markdown",
   "metadata": {},
   "source": [
    "We can also print the `objective`, which has all the parameter values (both being fitted and not). "
   ]
  },
  {
   "cell_type": "code",
   "execution_count": null,
   "metadata": {},
   "outputs": [],
   "source": [
    "print(objective)"
   ]
  },
  {
   "cell_type": "markdown",
   "metadata": {},
   "source": [
    "## Performing Sampling\n",
    "\n",
    "So far, we have only maximised the agreement between our model and the data, known as maximising the likelihood. \n",
    "However, it is becoming more and more popular to sample the full likelihood distribution. \n",
    "This gives us a statistical description of the values that may have been observed if our measurements were repeated over and over (assuming the uncertainties are correctly described in the measurement). \n",
    "\n",
    "We can sample this distribution using the `sample` method, as shown below. "
   ]
  },
  {
   "cell_type": "code",
   "execution_count": null,
   "metadata": {},
   "outputs": [],
   "source": [
    "fitter.sample(400)\n",
    "fitter.reset()"
   ]
  },
  {
   "cell_type": "markdown",
   "metadata": {},
   "source": [
    "We run the sampling for 400 steps and then reset this object (throwing away these samples). \n",
    "This is to allow the sampling system to reach some equilibrium before we perform the sampling that we will use in our analysis. "
   ]
  },
  {
   "cell_type": "code",
   "execution_count": null,
   "metadata": {},
   "outputs": [],
   "source": [
    "res = fitter.sample(15, nthin=100)"
   ]
  },
  {
   "cell_type": "markdown",
   "metadata": {},
   "source": [
    "Above, we performed 1500 samples with 100 individual samplers. \n",
    "From each sampler, we use only every 100th sample (this is done to remove the correlation between the samples). \n",
    "\n",
    "Finally, it is possible to visualise the full probability distribution of our objective with the `corner` plot shown below.\n",
    "The sampled distribution can also be visualised regarding the reflectivity and scattering length density. "
   ]
  },
  {
   "cell_type": "code",
   "execution_count": null,
   "metadata": {},
   "outputs": [],
   "source": [
    "objective.corner()\n",
    "plt.show()"
   ]
  },
  {
   "cell_type": "code",
   "execution_count": null,
   "metadata": {},
   "outputs": [],
   "source": [
    "objective.plot(samples=300)"
   ]
  },
  {
   "cell_type": "code",
   "execution_count": null,
   "metadata": {},
   "outputs": [],
   "source": [
    "structure.plot(samples=300)\n",
    "plt.ylim(2.2, 6)"
   ]
  }
 ],
 "metadata": {
  "kernelspec": {
   "display_name": "refnx",
   "language": "python",
   "name": "python3"
  },
  "language_info": {
   "codemirror_mode": {
    "name": "ipython",
    "version": 3
   },
   "file_extension": ".py",
   "mimetype": "text/x-python",
   "name": "python",
   "nbconvert_exporter": "python",
   "pygments_lexer": "ipython3",
   "version": "3.10.13"
  }
 },
 "nbformat": 4,
 "nbformat_minor": 2
}
