{
 "cells": [
  {
   "cell_type": "markdown",
   "metadata": {},
   "source": [
    "# Analysis of Lipid Bilayer Dataset\n",
    "\n",
    "Phospholipid bilayers represent a useful model description for cell membranes. \n",
    "The phospholipid defines the interface between the inside and outside of the cell, and reflectometry techniques lend themselves well to the study of these systems. \n",
    "However, in order to get the most from our reflectometry data, we must produce an accurate and descriptive model for the experimental system. \n",
    "To build this model, we will use the Python library [`refnx`](https://refnx.readthedocs.io/en/latest/index.html) and this Jupyter Notebook. \n",
    "\n",
    "<img src='./assets/bilayer.png' width='30%'><br>\n",
    "<small>\n",
    "A pictorial description of a phospholipid bilayer.\n",
    "</small>\n",
    "\n",
    "## Intended Learning Outcomes\n",
    "\n",
    "- Use the `refnx.reflect.LipidBilayer` in the analysis of multiple contrast neutron reflectometry data from a lipid bilayer at the solid-liquid interface. \n",
    "- Contextualise the implementation of the `refnx.reflect.LipidBilayer` class in the multilayer interpretation of reflectometry analysis\n",
    "- Assess how neutron reflectometry could be used in the analysis of your systems of interest. \n",
    "\n",
    "This example has been taken from the [`refnx` documentation](https://refnx.readthedocs.io/en/latest/lipid.html) that was developed by [Andrew Nelson](https://www.ansto.gov.au/people/dr-andrew-nelson) (ANSTO).\n",
    "\n",
    "## Description of the data\n",
    "\n",
    "The data that you will be looking at was collected at the Platypus reflectometer at the ANSTO reactor source in Australia. \n",
    "The data are stored as four columns ASCII files, with the columns representing the *q*-vectors, the measured reflectivity, the uncertainty in the measured reeflectivity, and the width of a Gaussian resolution function. \n",
    "Files are present from three measurements, the system that was measured consists of a slab of silicon, the bilayer of DMPC (1,2-dimyristoyl-*sn*-glycero-3-phosphocholine) and water, arranged as shown below. \n",
    "The neutrons enter the sample through the silicon. \n",
    "\n",
    "```\n",
    "|--Silicon--|\n",
    "|-----------|\n",
    "|--Bilayer--|\n",
    "|-----------|\n",
    "|---Water---|\n",
    "```\n",
    "\n",
    "The three measurements were obtained by changing the hydrogen/deuterium ratio in the water. \n",
    "It is assumed that this has no effect on the structure of the bilayer and therefore offered multiple measurements of the same structural system that can be corefined. \n",
    "\n",
    "Let's start with reading in the data and plotting it. \n",
    "To do this, we will use the `ReflectDataset` class from `refnx`. "
   ]
  },
  {
   "cell_type": "code",
   "execution_count": null,
   "metadata": {},
   "outputs": [],
   "source": [
    "import matplotlib.pyplot as plt\n",
    "from refnx.dataset import ReflectDataset\n",
    "\n",
    "data_d2o = ReflectDataset('./data//bilayer_d2o.dat')\n",
    "data_hdmix = ReflectDataset('./data/bilayer_hdmix.dat')\n",
    "data_h2o = ReflectDataset('./data/bilayer_h2o.dat')\n",
    "\n",
    "fig, ax = plt.subplots()\n",
    "data_d2o.plot(fig)\n",
    "data_hdmix.plot(fig)\n",
    "data_h2o.plot(fig)\n",
    "ax.set_xlabel('$q$/Å')\n",
    "ax.set_ylabel('$R(q)$')\n",
    "ax.set_yscale('log')\n",
    "plt.show()"
   ]
  },
  {
   "cell_type": "markdown",
   "metadata": {},
   "source": [
    "The three datasets are noticably different, despite coming from the same structural system. \n",
    "This is the effect of changing from pure D<sub>2</sub>O to a mixture of D<sub>2</sub>O and H<sub>2</sub>O to pure H<sub>2</sub>O.\n",
    "\n",
    "## Building the Model\n",
    "\n",
    "Having seen the data, the next aim is to build the structural model for the system. \n",
    "As is shown above in the description of the sample, the bilayer is assembled on a silicon block. \n",
    "Therefore, it is necessary that we have an object of type `SLD` that can be used to describe the silicon. "
   ]
  },
  {
   "cell_type": "code",
   "execution_count": null,
   "metadata": {},
   "outputs": [],
   "source": [
    "from refnx.reflect import SLD\n",
    "\n",
    "si = SLD(2.07, name='Si')\n",
    "si"
   ]
  },
  {
   "cell_type": "markdown",
   "metadata": {},
   "source": [
    "Notice that this function takes a single argument, the scattering length density of the material in units of 10 <sup>-6</sup> Å<sup>-2</sup>. \n",
    "Scattering length densities can have imaginary components, but for the materials investigated here they are all 0. \n",
    "\n",
    "#### Task: Create the remaining materials\n",
    "\n",
    "The silicon block has a naturally formed layer of SiO<sub>2</sub> on it. Therefore we need a `SLD` object for SiO<sub>2</sub> as well as the three isotopically different forms of water used. \n",
    "Create the four other `SLD` objects in the empty notebook cell below, use the variable names given in the table. \n",
    "\n",
    "| Material    | SLD (10 <sup>-6</sup> Å<sup>-2</sup>) |\n",
    "| -------- | ------- |\n",
    "| `sio2`  | 3.47    |\n",
    "| `d2o` | 6.36    |\n",
    "| `hdmix`    | 2.07  |\n",
    "| `h2o` | -0.56 | "
   ]
  },
  {
   "cell_type": "code",
   "execution_count": null,
   "metadata": {},
   "outputs": [],
   "source": [
    "### ANSWER\n",
    "\n",
    "sio2 = SLD(3.4, name='SiO2')\n",
    "d2o = SLD(6.36, name='D2O')\n",
    "hdmix = SLD(2.07, name='HD-Mix')\n",
    "h2o = SLD(-0.56, name='H2O')"
   ]
  },
  {
   "cell_type": "markdown",
   "metadata": {},
   "source": [
    "These objects are all potentially parameters that can be refined in the model fitting process. \n",
    "We can see if a parameter is able to vary with the following command (notice that since the `SLD` object may include an imaginary component it in fact contains two parameters). "
   ]
  },
  {
   "cell_type": "code",
   "execution_count": null,
   "metadata": {},
   "outputs": [],
   "source": [
    "d2o.real.vary"
   ]
  },
  {
   "cell_type": "markdown",
   "metadata": {},
   "source": [
    "Currently, the real SLD of the `d2o` object is not able to vary. \n",
    "This can be changed with the `setp` method. "
   ]
  },
  {
   "cell_type": "code",
   "execution_count": null,
   "metadata": {},
   "outputs": [],
   "source": [
    "d2o.real.setp(vary=True, bounds=(6.1, 6.36))\n",
    "d2o.real.vary"
   ]
  },
  {
   "cell_type": "markdown",
   "metadata": {},
   "source": [
    "This will ensure that in the optimisation, the value of `d2o` is constrained between the values of 6.1 &times;10 <sup>-6</sup> Å<sup>-2</sup> and 6.36 &times;10 <sup>-6</sup> Å<sup>-2</sup>. \n",
    "\n",
    "The next step will be to create a layer of the SiO<sub>2</sub> material. \n",
    "To do this we call the `sio2` object with two values, the first is the thickness of the layer and the second is the roughness between this layer and the layer above it (for the SiO<sub>2</sub> layer this is the pure silicon layer) in ångströms."
   ]
  },
  {
   "cell_type": "code",
   "execution_count": null,
   "metadata": {},
   "outputs": [],
   "source": [
    "sio2_layer = sio2(15, 3)\n",
    "sio2_layer.name = 'SiO2 Layer'\n",
    "print(sio2_layer)"
   ]
  },
  {
   "cell_type": "markdown",
   "metadata": {},
   "source": [
    "#### Task: Varying Parameters of the SiO<sub>2</sub> Layer\n",
    "\n",
    "You should notice that the `sio2_layer` object has a few parameters associated with it; thickness, roughness, and solvent volume fraction. \n",
    "Similar to the SLD, these can be allowed to vary. \n",
    "Set the `sio2_layer` parameters in the table to vary between the given bounds in the cell below.\n",
    "\n",
    "| Parameter | Min | Max |\n",
    "| -------- | ------- | ------- |\n",
    "| `thick` | 2 | 30 |\n",
    "| `rough` | 0 | 7 |\n",
    "| `vfsolv` | 0.0 | 0.5 | "
   ]
  },
  {
   "cell_type": "code",
   "execution_count": null,
   "metadata": {},
   "outputs": [],
   "source": [
    "### ANSWER\n",
    "\n",
    "sio2_layer.thick.setp(vary=True, bounds=(2, 30))\n",
    "sio2_layer.rough.setp(vary=True, bounds=(0, 7))\n",
    "sio2_layer.vfsolv.setp(vary=True, bounds=(0, 0.5))"
   ]
  },
  {
   "cell_type": "markdown",
   "metadata": {},
   "source": [
    "The next step is to create the `refnx.reflect.LipidLeaflet` objects (note that two will be required, one for each layer in the bilayer). \n",
    "This imposes some physical constraints on our model, specifically that the number of head groups in the lipid layers must be equal to the number of pairs of tail groups. \n",
    "This constraint makes logical sense, as there is covalent chemical bonds between these components of the phospholipid. \n",
    "Let's look at the input requirements for the `refnx.reflect.LipidLeaflet`. "
   ]
  },
  {
   "cell_type": "code",
   "execution_count": null,
   "metadata": {},
   "outputs": [],
   "source": [
    "from refnx.reflect import LipidLeaflet\n",
    "\n",
    "LipidLeaflet?"
   ]
  },
  {
   "cell_type": "markdown",
   "metadata": {},
   "source": [
    "It can be seen that there are a large number of inputs required, so let's build these one by one. \n",
    "The first is the `apm` or area per molecule, this is the area that each lipid occupies in the lipid layer. \n",
    "We will create this directly as a `Parameter`. "
   ]
  },
  {
   "cell_type": "code",
   "execution_count": null,
   "metadata": {},
   "outputs": [],
   "source": [
    "from refnx.analysis import Parameter\n",
    "\n",
    "apm = Parameter(56, name='area per molecule', vary=True, bounds=(52, 65))\n",
    "apm"
   ]
  },
  {
   "cell_type": "markdown",
   "metadata": {},
   "source": [
    "#### Task: Remaining Parameter Creation \n",
    "\n",
    "Using the `Parameter` function, you should create the remaining parameters (given in the table below) for the `LipidLeafet` in the cell below. \n",
    "Where no min and max value is given, the parameter should not be able to vary. \n",
    "We will then discuss what each of these parameters means.\n",
    "\n",
    "| Parameter | Initial Value | Min | Max |\n",
    "| -------- | ------- | ------- | ------- |\n",
    "| `b_heads` | 6.01&times;10<sup>-4</sup> | -- | -- |\n",
    "| `b_tails` | -2.92&times;10<sup>-4</sup> | -- | -- |\n",
    "| `v_heads` | 319 | -- | -- |\n",
    "| `v_tails` | 782 | -- | -- |\n",
    "| `inner_head_thickness` | 9 | 4 | 11 |\n",
    "| `outer_head_thickness` | 9 | 4 | 11 |\n",
    "| `tail_thickness` | 14 | 10 | 17 |\n",
    "| `solv_roughness` | 3 | 0 | 5 |"
   ]
  },
  {
   "cell_type": "code",
   "execution_count": null,
   "metadata": {},
   "outputs": [],
   "source": [
    "### ANSWER\n",
    "b_heads = Parameter(6.01e-4, 'b_heads')\n",
    "b_tails = Parameter(-2.92e-4, 'b_tails')\n",
    "\n",
    "v_heads = Parameter(319, 'v_heads')\n",
    "v_tails = Parameter(782, 'v_tails')\n",
    "\n",
    "inner_head_thickness = Parameter(9, 'inner_head_thickness', vary=True, bounds=(4, 11))\n",
    "outer_head_thickness = Parameter(9, 'outer_head_thickness', vary=True, bounds=(4, 11))\n",
    "tail_thickness = Parameter(14, 'tail_thickness', vary=True, bounds=(10, 17))\n",
    "solv_roughness = Parameter(3, 'solv_roughness', vary=True, bounds=(0, 5))"
   ]
  },
  {
   "cell_type": "markdown",
   "metadata": {},
   "source": [
    "These parameters are the following:\n",
    "- `b_heads` and `b_tails` are the scattering lengths of the heads and tails (in ångströms), respectively.\n",
    "- `v_heads` and `v_tails` are the volume occupied by the heads and tails (in ångströms<sup>3</sup>), respectively.\n",
    "- `inner_head_thickness` is the thickness of the head layer that is next to the silicon block.\n",
    "- `outer_head_thickness` is the same parameter for the head layer at the water.\n",
    "- `tail_thickness` is the tail layer thickness. \n",
    "\n",
    "The two `LipidLeaflet` can now be created, with roughness values of 3 Å."
   ]
  },
  {
   "cell_type": "code",
   "execution_count": null,
   "metadata": {},
   "outputs": [],
   "source": [
    "inner_leaflet = LipidLeaflet(apm,\n",
    "                             b_heads, v_heads, inner_head_thickness,\n",
    "                             b_tails, v_tails, tail_thickness,\n",
    "                             3, 3)\n",
    "\n",
    "outer_leaflet = LipidLeaflet(apm,\n",
    "                             b_heads, v_heads, outer_head_thickness,\n",
    "                             b_tails, v_tails, tail_thickness,\n",
    "                             3, 0, reverse_monolayer=True)"
   ]
  },
  {
   "cell_type": "markdown",
   "metadata": {},
   "source": [
    "Note that for the `outer_leaflet` the monolayer is reversed so that the tails are in contact between the two layers. \n",
    "\n",
    "The final step to build the model is to bring all of the layers together for each of the three isotopic contrasts. "
   ]
  },
  {
   "cell_type": "code",
   "execution_count": null,
   "metadata": {},
   "outputs": [],
   "source": [
    "s_d2o = si | sio2_layer | inner_leaflet | outer_leaflet | d2o(0, solv_roughness)\n",
    "s_hdmix = si | sio2_layer | inner_leaflet | outer_leaflet | hdmix(0, solv_roughness)\n",
    "s_h2o = si | sio2_layer | inner_leaflet | outer_leaflet | h2o(0, solv_roughness)"
   ]
  },
  {
   "cell_type": "markdown",
   "metadata": {},
   "source": [
    "The `si` layer has no roughness as it is the top layer in the model. \n",
    "\n",
    "## Calculating Reflectometry from the Models\n",
    "\n",
    "With the model created, we now need to add some reflectometry parameters, the scaling of the data and the background level (only the `s_d2o` system requires a change of scale). \n",
    "This is done with the `refnx.reflect.ReflectModel` objects. "
   ]
  },
  {
   "cell_type": "code",
   "execution_count": null,
   "metadata": {},
   "outputs": [],
   "source": [
    "from refnx.reflect import ReflectModel\n",
    "\n",
    "model_d2o = ReflectModel(s_d2o)\n",
    "model_hdmix = ReflectModel(s_hdmix)\n",
    "model_h2o = ReflectModel(s_h2o)\n",
    "\n",
    "model_d2o.scale.setp(vary=True, bounds=(0.9, 1.1))\n",
    "\n",
    "model_d2o.bkg.setp(vary=True, bounds=(-1e-6, 1e-6))\n",
    "model_hdmix.bkg.setp(vary=True, bounds=(-1e-6, 1e-6))\n",
    "model_h2o.bkg.setp(vary=True, bounds=(-1e-6, 1e-6))"
   ]
  },
  {
   "cell_type": "markdown",
   "metadata": {},
   "source": [
    "Finally, similar to the previous example, a `Objective` is created. \n",
    "However, this time one is created for each of the systems and these are merged into a `GlobalObjective`."
   ]
  },
  {
   "cell_type": "code",
   "execution_count": null,
   "metadata": {},
   "outputs": [],
   "source": [
    "from refnx.analysis import Objective, GlobalObjective\n",
    "\n",
    "objective_d2o = Objective(model_d2o, data_d2o)\n",
    "objective_hdmix = Objective(model_hdmix, data_hdmix)\n",
    "objective_h2o = Objective(model_h2o, data_h2o)\n",
    "\n",
    "global_objective = GlobalObjective([objective_d2o, objective_hdmix, objective_h2o])"
   ]
  },
  {
   "cell_type": "markdown",
   "metadata": {},
   "source": [
    "Before we perform the fitting, we can look at the current agreement between the model and the data. "
   ]
  },
  {
   "cell_type": "code",
   "execution_count": null,
   "metadata": {},
   "outputs": [],
   "source": [
    "fig, ax = plt.subplots()\n",
    "global_objective.plot(fig=fig)\n",
    "ax.set_xlabel('$q$/Å')\n",
    "ax.set_ylabel('$R(q)$')\n",
    "ax.set_yscale('log')\n",
    "plt.show()"
   ]
  },
  {
   "cell_type": "markdown",
   "metadata": {},
   "source": [
    "The `GlobalObjective` acts in the same way as the `Objective` objects. \n",
    "Therefore, they can be passed to the `CurveFitter` and a fitting algorithm may be applied. "
   ]
  },
  {
   "cell_type": "code",
   "execution_count": null,
   "metadata": {},
   "outputs": [],
   "source": [
    "from refnx.analysis import CurveFitter\n",
    "\n",
    "fitter = CurveFitter(global_objective)\n",
    "fitter.fit('differential_evolution')"
   ]
  },
  {
   "cell_type": "markdown",
   "metadata": {},
   "source": [
    "With the fitting complete, we can visualise the data and the model together. "
   ]
  },
  {
   "cell_type": "code",
   "execution_count": null,
   "metadata": {},
   "outputs": [],
   "source": [
    "fig, ax = plt.subplots()\n",
    "global_objective.plot(fig=fig)\n",
    "ax.set_xlabel('$q$/Å')\n",
    "ax.set_ylabel('$R(q)$')\n",
    "ax.set_yscale('log')\n",
    "plt.show()"
   ]
  },
  {
   "cell_type": "markdown",
   "metadata": {},
   "source": [
    "We can also have a look at the optimised values of the varying parameters. "
   ]
  },
  {
   "cell_type": "code",
   "execution_count": null,
   "metadata": {},
   "outputs": [],
   "source": [
    "print(global_objective.varying_parameters())"
   ]
  },
  {
   "cell_type": "markdown",
   "metadata": {},
   "source": [
    "#### Task: Perform MCMC on the Bilayer System\n",
    "\n",
    "In the previous exercise, you performed Markov chain Monte Carlo (MCMC) sampling to investigate the posterior distribution for the system. \n",
    "Perform the same operation and plot the corner plot for the posterior distribution. "
   ]
  },
  {
   "cell_type": "code",
   "execution_count": null,
   "metadata": {},
   "outputs": [],
   "source": [
    "### ANSWER\n",
    "\n",
    "fitter.sample(400)\n",
    "fitter.sampler.reset()\n",
    "fitter.sample(30, nthin=100)\n",
    "\n",
    "global_objective.corner()\n",
    "plt.show()"
   ]
  }
 ],
 "metadata": {
  "kernelspec": {
   "display_name": "refnx",
   "language": "python",
   "name": "python3"
  },
  "language_info": {
   "codemirror_mode": {
    "name": "ipython",
    "version": 3
   },
   "file_extension": ".py",
   "mimetype": "text/x-python",
   "name": "python",
   "nbconvert_exporter": "python",
   "pygments_lexer": "ipython3",
   "version": "3.10.13"
  }
 },
 "nbformat": 4,
 "nbformat_minor": 2
}
